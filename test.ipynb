{
 "cells": [
  {
   "cell_type": "code",
   "execution_count": 1,
   "id": "0a772655",
   "metadata": {},
   "outputs": [],
   "source": [
    "from langchain.document_loaders import PyPDFLoader\n",
    "\n",
    "def documents_loader(path: str):\n",
    "    \"\"\"\n",
    "    Load documents from a given path.\n",
    "    Args:\n",
    "        path (str): The path to the document.\n",
    "    Returns:\n",
    "        list: A list of loaded documents.\n",
    "    \"\"\"\n",
    "    loader = PyPDFLoader(path)\n",
    "    documents = loader.load()\n",
    "    return documents\n"
   ]
  },
  {
   "cell_type": "code",
   "execution_count": 2,
   "id": "24f8857d",
   "metadata": {},
   "outputs": [
    {
     "name": "stdout",
     "output_type": "stream",
     "text": [
      "637\n"
     ]
    }
   ],
   "source": [
    "documents = documents_loader(\"./Data/PDF_Files/the-gale-encyclopedia-of-medicine_compress.pdf\")\n",
    "print(len(documents))"
   ]
  },
  {
   "cell_type": "code",
   "execution_count": 3,
   "id": "ae140e90",
   "metadata": {},
   "outputs": [],
   "source": [
    "from langchain.text_splitter import RecursiveCharacterTextSplitter\n",
    "\n",
    "def split_documents(documents, chunk_size=1000, chunk_overlap=200):\n",
    "    \"\"\"\n",
    "    Split documents into smaller chunks.\n",
    "    Args:\n",
    "        documents (list): List of documents to split.\n",
    "        chunk_size (int): Size of each chunk.\n",
    "        chunk_overlap (int): Overlap between chunks.\n",
    "    Returns:\n",
    "        list: List of split documents.\n",
    "    \"\"\"\n",
    "    text_splitter = RecursiveCharacterTextSplitter(\n",
    "        chunk_size=chunk_size,\n",
    "        chunk_overlap=chunk_overlap,\n",
    "        length_function=len\n",
    "    )\n",
    "    text_chunks = text_splitter.split_documents(documents)\n",
    "    return text_chunks"
   ]
  },
  {
   "cell_type": "code",
   "execution_count": 4,
   "id": "d02583a0",
   "metadata": {},
   "outputs": [
    {
     "name": "stdout",
     "output_type": "stream",
     "text": [
      "Number of chunks: 3426\n"
     ]
    }
   ],
   "source": [
    "chunks = split_documents(documents, chunk_size=1000, chunk_overlap=200)\n",
    "print(f\"Number of chunks: {len(chunks)}\")"
   ]
  },
  {
   "cell_type": "code",
   "execution_count": 12,
   "id": "dc33c668",
   "metadata": {},
   "outputs": [],
   "source": [
    "from langchain_community.vectorstores import FAISS\n",
    "from langchain_huggingface import HuggingFaceEmbeddings\n",
    "\n",
    "embedding_model = HuggingFaceEmbeddings(model_name=\"sentence-transformers/all-MiniLM-L6-v2\")\n",
    "\n",
    "db = FAISS.from_documents(chunks, embedding_model)"
   ]
  },
  {
   "cell_type": "code",
   "execution_count": 15,
   "id": "7813bc90",
   "metadata": {},
   "outputs": [
    {
     "name": "stdout",
     "output_type": "stream",
     "text": [
      "Number of documents found: 4\n"
     ]
    }
   ],
   "source": [
    "query = \"breast cancer\"\n",
    "docs = db.similarity_search(query)\n",
    "print(f\"Number of documents found: {len(docs)}\")"
   ]
  },
  {
   "cell_type": "code",
   "execution_count": 37,
   "id": "3178fbf8",
   "metadata": {},
   "outputs": [],
   "source": [
    "import faiss\n",
    "from langchain_community.vectorstores import FAISS\n",
    "from langchain_community.docstore.in_memory import InMemoryDocstore\n",
    "from langchain_huggingface import HuggingFaceEmbeddings\n",
    "import uuid\n",
    "import os\n",
    "\n",
    "\n",
    "def store_documents_in_faiss(chunks, document_name):\n",
    "    \"\"\"\n",
    "    Store documents in a FAISS vector store.\n",
    "    Args:\n",
    "        chunks (list): List of document chunks to be stored.\n",
    "    \"\"\"\n",
    "    embedding_model = HuggingFaceEmbeddings(model_name=\"sentence-transformers/all-MiniLM-L6-v2\")\n",
    "\n",
    "    index = faiss.IndexFlatL2(len(embedding_model.embed_query(\"hello world\")))\n",
    "\n",
    "    vector_store = FAISS(\n",
    "        embedding_function=embedding_model,\n",
    "        index=index,\n",
    "        docstore= InMemoryDocstore(),\n",
    "        index_to_docstore_id={}\n",
    "    )\n",
    "\n",
    "    ids = [str(uuid.uuid4()) for _ in chunks]\n",
    "    vector_store.add_documents(documents=chunks, ids=ids)\n",
    "    vector_store.save_local(os.path.join('Data/vector_db', document_name))\n",
    "    vector_store = FAISS.load_local(\n",
    "        os.path.join('Data/vector_db', document_name),\n",
    "        embedding_model,\n",
    "        allow_dangerous_deserialization=True\n",
    "    )\n",
    "    return vector_store\n"
   ]
  },
  {
   "cell_type": "code",
   "execution_count": 39,
   "id": "0c915de2",
   "metadata": {},
   "outputs": [],
   "source": [
    "def query_faiss_vector_store(vector_store, query, k=3):\n",
    "    \"\"\"\n",
    "    Query the FAISS vector store for similar documents.\n",
    "    Args:\n",
    "        vector_store (FAISS): The FAISS vector store instance.\n",
    "        query (str): The query string to search for.\n",
    "        k (int): The number of similar documents to return.\n",
    "    Returns:\n",
    "        list: List of similar documents.\n",
    "    \"\"\"\n",
    "    results = vector_store.similarity_search(query=query, k=k)\n",
    "    return results\n"
   ]
  },
  {
   "cell_type": "code",
   "execution_count": 40,
   "id": "88b2d347",
   "metadata": {},
   "outputs": [
    {
     "name": "stdout",
     "output_type": "stream",
     "text": [
      "* bruises , burns, poisoning , broken bones, and internal\n",
      "hemorrhages. Physical assault against an adult primarily\n",
      "occurs with women, usually in the form of domestic vio-\n",
      "lence. It is estimated that approximately three million\n",
      "children witness domestic violence every year.\n",
      "Sexual abuse of a child refers to sexual behavior\n",
      "between an adult and child or between two children, one\n",
      "of whom is dominant or significantly older. The sexual\n",
      "behaviors can include touching breasts, genitals, and but-\n",
      "tocks; either dressed or undressed. The behavior can also\n",
      "include exhibitionism, cunnilingus, fellatio, or penetra-\n",
      "tion of the vagina or anus with sexual organs or objects.\n",
      "Pornographic photography is also used in sexual\n",
      "abuse with children. Reported sex offenders are 97%\n",
      "male. Females are more often perpetrators in child-care\n",
      "settings, since children may confuse sexual abuse by a\n",
      "female with normal hygiene care. Sexual abuse by step-\n",
      "fathers is five times more common than with biological [{'producer': 'PDFlib+PDI 5.0.0 (SunOS)', 'creator': 'PyPDF', 'creationdate': '2004-12-18T17:00:02-05:00', 'moddate': '2004-12-18T16:15:31-06:00', 'source': './Data/PDF_Files/the-gale-encyclopedia-of-medicine_compress.pdf', 'total_pages': 637, 'page': 29, 'page_label': '30'}]\n",
      "\n",
      "\n",
      "\n",
      "* settings, since children may confuse sexual abuse by a\n",
      "female with normal hygiene care. Sexual abuse by step-\n",
      "fathers is five times more common than with biological\n",
      "fathers. Sexual abuse of daughters by stepfathers or\n",
      "fathers is the most common form of incest.\n",
      "Sexual abuse can also take the form of rape. The\n",
      "legal definition of rape includes only slight penile pene-\n",
      "tration in the victim’s outer vulva area. Complete erec-\n",
      "tion and ejaculation are not necessary. Rape is the perpe-\n",
      "tration of an act of sexual intercourse whether:\n",
      "• will is overcome by force or fear (from threats or by use\n",
      "of drugs).\n",
      "GALE ENCYCLOPEDIA OF MEDICINE 216\n",
      "Abuse\n",
      "GEM - 0001 to 0432 - A  10/22/03 1:41 PM  Page 16 [{'producer': 'PDFlib+PDI 5.0.0 (SunOS)', 'creator': 'PyPDF', 'creationdate': '2004-12-18T17:00:02-05:00', 'moddate': '2004-12-18T16:15:31-06:00', 'source': './Data/PDF_Files/the-gale-encyclopedia-of-medicine_compress.pdf', 'total_pages': 637, 'page': 29, 'page_label': '30'}]\n",
      "\n",
      "\n",
      "\n",
      "* factors for HIV transmission vary according to category:\n",
      "• Sexual contact. Persons at greatest risk are those who\n",
      "do not practice safe sex, those who are not monoga-\n",
      "mous, those who participate in anal intercourse, and\n",
      "those who have sex with a partner with symptoms of\n",
      "advanced HIV infection and/or other sexually trans-\n",
      "mitted diseases (STDs). In the United States and\n",
      "Europe, most cases of sexually transmitted HIV infec-\n",
      "tion have resulted from homosexual contact, whereas in\n",
      "Africa, the disease is spread primarily through sexual\n",
      "intercourse among heterosexuals.\n",
      "• Transmission in pregnancy. High-risk mothers include\n",
      "women married to bisexual men or men who have an\n",
      "abnormal blood condition called hemophilia and\n",
      "require blood transfusions, intravenous drug users, and\n",
      "women living in neighborhoods with a high rate of HIV\n",
      "infection among heterosexuals. The chances of trans-\n",
      "mitting the disease to the child are higher in women in\n",
      "advanced stages of the disease. Breast feeding increases [{'producer': 'PDFlib+PDI 5.0.0 (SunOS)', 'creator': 'PyPDF', 'creationdate': '2004-12-18T17:00:02-05:00', 'moddate': '2004-12-18T16:15:31-06:00', 'source': './Data/PDF_Files/the-gale-encyclopedia-of-medicine_compress.pdf', 'total_pages': 637, 'page': 87, 'page_label': '88'}]\n",
      "\n",
      "\n",
      "\n"
     ]
    }
   ],
   "source": [
    "vector_store = store_documents_in_faiss(chunks, \"medical_documents\")\n",
    "\n",
    "results = query_faiss_vector_store(vector_store, query=\"sex life love\", k=3)\n",
    "for doc in results:\n",
    "    print(f\"* {doc.page_content} [{doc.metadata}]\\n\\n\\n\")"
   ]
  },
  {
   "cell_type": "code",
   "execution_count": 22,
   "id": "f409935e",
   "metadata": {},
   "outputs": [
    {
     "name": "stdout",
     "output_type": "stream",
     "text": [
      "* cancerous cells. Cancer is commonly defined as the\n",
      "uncontrolled growth of cells, with loss of differentiation\n",
      "and commonly, with metastasis, spread of the cancer to\n",
      "other tissues and organs. Cancers are malignant growths.\n",
      "In contrast, benign growths remain encapsulated and grow\n",
      "within a well-defined area. Although benign tumors may\n",
      "be fatal if untreated, due to pressure on essential organs, as\n",
      "in the case of a benign brain tumor, surgery or radiation\n",
      "are the preferred methods of treating growths which have a\n",
      "well defined location. Drug therapy is used when the\n",
      "tumor has spread, or may spread, to all areas of the body.\n",
      "Description\n",
      "Several classes of drugs may be used in cancer treat-\n",
      "ment, depending on the nature of the organ involved. For\n",
      "example, breast cancers are commonly stimulated by\n",
      "estrogens, and may be treated with drugs which inactive\n",
      "the sex hormones. Similarly, prostate cancer may be\n",
      "treated with drugs that inactivate androgens, the male sex [{'producer': 'PDFlib+PDI 5.0.0 (SunOS)', 'creator': 'PyPDF', 'creationdate': '2004-12-18T17:00:02-05:00', 'moddate': '2004-12-18T16:15:31-06:00', 'source': './Data/PDF_Files/the-gale-encyclopedia-of-medicine_compress.pdf', 'total_pages': 637, 'page': 259, 'page_label': '260'}]\n",
      "\n",
      "\n",
      "\n",
      "* microscope for cancer.\n",
      "Chemotherapy —A cancer treatment in which\n",
      "drugs delivered into the blood stream kill cancer\n",
      "cells or make them more vulnerable to radiation\n",
      "therapy.\n",
      "Human papillomavirus (HPV)—A virus with many\n",
      "subtypes, some of which cause cell changes that\n",
      "increase the risk of certain cancers.\n",
      "Human immunodeficiency virus (HIV)—The virus\n",
      "that causes acquired immune deficiency syn-\n",
      "drome (AIDS).\n",
      "Lymph nodes —Bean-shaped structures found\n",
      "throughout the body that produce and store infec-\n",
      "tion-fighting cells.\n",
      "Radiation therapy —A cancer treatment that uses\n",
      "high-energy rays to kill or weaken cancer cells.\n",
      "Radiation may be delivered externally or internal-\n",
      "ly via surgically implanted pellets.\n",
      "Prevention\n",
      "Reducing the risks of the sexually transmitted dis-\n",
      "eases HPV and HIV also reduces the risk of anal cancer. In\n",
      "addition, quitting smokinglowers the risk of anal cancer.\n",
      "Resources\n",
      "BOOKS\n",
      "American Joint Committee on Cancer: AJCC Cancer Staging [{'producer': 'PDFlib+PDI 5.0.0 (SunOS)', 'creator': 'PyPDF', 'creationdate': '2004-12-18T17:00:02-05:00', 'moddate': '2004-12-18T16:15:31-06:00', 'source': './Data/PDF_Files/the-gale-encyclopedia-of-medicine_compress.pdf', 'total_pages': 637, 'page': 184, 'page_label': '185'}]\n",
      "\n",
      "\n",
      "\n",
      "* kill cancer cells directly, while others act indirectly by\n",
      "making cancer cells more vulnerable to radiation. The\n",
      "main drugs used to treat anal cancer are 5-fluorouracil (5-\n",
      "FU) and mitomycin or 5-FU and cisplatin. Side effects of\n",
      "chemotherapy, which damages normal cells in addition to\n",
      "cancer cells, may include nausea and vomiting , hair\n",
      "loss, loss of appetite, diarrhea, mouth sores, fatigue,\n",
      "shortness of breath, and a weakened immune system.\n",
      "Alternative treatment\n",
      "Research suggests acupuncture can help manage\n",
      "chemotherapy-related nausea and vomiting and control\n",
      "pain associated with surgery.\n",
      "Prognosis\n",
      "Anal cancer is often curable. The chance of recovery\n",
      "depends on the cancer stage and the patient’s general health.\n",
      "KEY TERMS\n",
      "Biopsy—A procedure in which a small piece of\n",
      "body tissue is removed and examined under a\n",
      "microscope for cancer.\n",
      "Chemotherapy —A cancer treatment in which\n",
      "drugs delivered into the blood stream kill cancer\n",
      "cells or make them more vulnerable to radiation\n",
      "therapy. [{'producer': 'PDFlib+PDI 5.0.0 (SunOS)', 'creator': 'PyPDF', 'creationdate': '2004-12-18T17:00:02-05:00', 'moddate': '2004-12-18T16:15:31-06:00', 'source': './Data/PDF_Files/the-gale-encyclopedia-of-medicine_compress.pdf', 'total_pages': 637, 'page': 184, 'page_label': '185'}]\n",
      "\n",
      "\n",
      "\n"
     ]
    }
   ],
   "source": [
    "results = vector_store.similarity_search(query=\"cancer\",k=3)\n",
    "for doc in results:\n",
    "    print(f\"* {doc.page_content} [{doc.metadata}]\\n\\n\\n\")"
   ]
  },
  {
   "cell_type": "code",
   "execution_count": 25,
   "id": "4d33f5f5",
   "metadata": {},
   "outputs": [
    {
     "name": "stdout",
     "output_type": "stream",
     "text": [
      "384\n"
     ]
    }
   ],
   "source": [
    "# ...existing code...\n",
    "embedding = embedding_model.embed_query(\"hello world\")\n",
    "print(len(embedding))"
   ]
  },
  {
   "cell_type": "code",
   "execution_count": 1,
   "id": "d7f874df",
   "metadata": {},
   "outputs": [
    {
     "name": "stderr",
     "output_type": "stream",
     "text": [
      "d:\\Data Science\\Projects\\Medical Super Bot\\myenv\\Lib\\site-packages\\tqdm\\auto.py:21: TqdmWarning: IProgress not found. Please update jupyter and ipywidgets. See https://ipywidgets.readthedocs.io/en/stable/user_install.html\n",
      "  from .autonotebook import tqdm as notebook_tqdm\n",
      "d:\\Data Science\\Projects\\Medical Super Bot\\myenv\\Lib\\site-packages\\huggingface_hub\\file_download.py:143: UserWarning: `huggingface_hub` cache-system uses symlinks by default to efficiently store duplicated files but your machine does not support them in C:\\Users\\sonal\\.cache\\huggingface\\hub\\models--openai--whisper-large-v3-turbo. Caching files will still work but in a degraded version that might require more space on your disk. This warning can be disabled by setting the `HF_HUB_DISABLE_SYMLINKS_WARNING` environment variable. For more details, see https://huggingface.co/docs/huggingface_hub/how-to-cache#limitations.\n",
      "To support symlinks on Windows, you either need to activate Developer Mode or to run Python as an administrator. In order to activate developer mode, see this article: https://docs.microsoft.com/en-us/windows/apps/get-started/enable-your-device-for-development\n",
      "  warnings.warn(message)\n",
      "Xet Storage is enabled for this repo, but the 'hf_xet' package is not installed. Falling back to regular HTTP download. For better performance, install the package with: `pip install huggingface_hub[hf_xet]` or `pip install hf_xet`\n",
      "Device set to use cpu\n"
     ]
    }
   ],
   "source": [
    "import torch\n",
    "from transformers import AutoModelForSpeechSeq2Seq, AutoProcessor, pipeline\n",
    "\n",
    "\n",
    "device = \"cuda:0\" if torch.cuda.is_available() else \"cpu\"\n",
    "torch_dtype = torch.float16 if torch.cuda.is_available() else torch.float32\n",
    "\n",
    "model_id = \"openai/whisper-large-v3-turbo\"\n",
    "\n",
    "model = AutoModelForSpeechSeq2Seq.from_pretrained(\n",
    "    model_id, torch_dtype=torch_dtype, low_cpu_mem_usage=True, use_safetensors=True\n",
    ")\n",
    "model.to(device)\n",
    "\n",
    "processor = AutoProcessor.from_pretrained(model_id)\n",
    "\n",
    "pipe = pipeline(\n",
    "    \"automatic-speech-recognition\",\n",
    "    model=model,\n",
    "    tokenizer=processor.tokenizer,\n",
    "    feature_extractor=processor.feature_extractor,\n",
    "    torch_dtype=torch_dtype,\n",
    "    device=device,\n",
    ")"
   ]
  },
  {
   "cell_type": "code",
   "execution_count": 5,
   "id": "9d491bee",
   "metadata": {},
   "outputs": [
    {
     "name": "stderr",
     "output_type": "stream",
     "text": [
      "d:\\Data Science\\Projects\\Medical Super Bot\\myenv\\Lib\\site-packages\\transformers\\models\\whisper\\generation_whisper.py:604: FutureWarning: The input name `inputs` is deprecated. Please make sure to use `input_features` instead.\n",
      "  warnings.warn(\n"
     ]
    },
    {
     "name": "stdout",
     "output_type": "stream",
     "text": [
      " I heard that you can understand what people say and even know their age and gender. So can you guess my age and gender from my voice?\n"
     ]
    }
   ],
   "source": [
    "result = pipe('guess_age_gender.wav')\n",
    "print(result[\"text\"])\n"
   ]
  },
  {
   "cell_type": "code",
   "execution_count": 7,
   "id": "3a054e5b",
   "metadata": {},
   "outputs": [],
   "source": [
    "import os\n",
    "from groq import Groq\n",
    "\n",
    "client = Groq(api_key=os.environ.get(\"GORQ_API\"))\n",
    "\n",
    "speech_file_path = \"speech.wav\" \n",
    "model = \"playai-tts\"\n",
    "voice = \"Fritz-PlayAI\"\n",
    "text = \"I love building and shipping new features for our users!\"\n",
    "response_format = \"wav\"\n",
    "\n",
    "response = client.audio.speech.create(\n",
    "    model=model,\n",
    "    voice=voice,\n",
    "    input=text,\n",
    "    response_format=response_format\n",
    ")\n",
    "response.write_to_file(speech_file_path)"
   ]
  },
  {
   "cell_type": "code",
   "execution_count": 8,
   "id": "520f286c",
   "metadata": {},
   "outputs": [
    {
     "name": "stdout",
     "output_type": "stream",
     "text": [
      "Audio file saved at: None\n"
     ]
    }
   ],
   "source": [
    "def text_to_speech(text, speech_file_path = \"speech.wav\", model=\"playai-tts\", voice=\"Fritz-PlayAI\"):\n",
    "    \"\"\"\n",
    "    Converts text to speech using the Groq API.\n",
    "    \"\"\"\n",
    "    client = Groq(api_key=os.environ.get(\"GORQ_API\"))\n",
    "    response = client.audio.speech.create(\n",
    "        model=model,\n",
    "        voice=voice,\n",
    "        input=text,\n",
    "        response_format=\"wav\"\n",
    "    )\n",
    "    audio_file = response.write_to_file(os.path.join('Data/audio_files', speech_file_path))\n",
    "    return audio_file\n",
    "\n",
    "# Example usage\n",
    "text = \"Hello, this is a test of the text-to-speech conversion.\"\n",
    "audio_file = text_to_speech(text, speech_file_path=\"test_speech.wav\")"
   ]
  },
  {
   "cell_type": "code",
   "execution_count": 9,
   "id": "b48edd1b",
   "metadata": {},
   "outputs": [
    {
     "name": "stdout",
     "output_type": "stream",
     "text": [
      "The image shows a person with white flakes on their scalp, which is a common symptom of a skin condition known as **dandruff** or **seborrheic dermatitis**. However, the presence of small, white flakes that resemble tiny scales or patches, particularly on the scalp, is more indicative of **dandruff** or **seborrheic dermatitis**, but most specifically **dandruff**.\n",
      "\n",
      "A more severe and specific condition characterized by a similar appearance is **head lice** infestation, but the image does not show any moving objects (lice or nits close to the scalp) but rather flakes. \n",
      "\n",
      "However, the flakes are also a symptom of **psoriasis**. Considering the typical appearance of the condition (white scales), I'd say the image most likely shows **dandruff**.\n"
     ]
    }
   ],
   "source": [
    "from groq import Groq\n",
    "import base64\n",
    "import os\n",
    "\n",
    "# Function to encode the image\n",
    "def encode_image(image_path):\n",
    "  with open(image_path, \"rb\") as image_file:\n",
    "    return base64.b64encode(image_file.read()).decode('utf-8')\n",
    "\n",
    "# Path to your image\n",
    "image_path = \"./Data/Images/OIP.webp\"\n",
    "\n",
    "# Getting the base64 string\n",
    "base64_image = encode_image(image_path)\n",
    "\n",
    "client = Groq(api_key=os.environ.get(\"GORQ_API\"))\n",
    "\n",
    "chat_completion = client.chat.completions.create(\n",
    "    messages=[\n",
    "        {\n",
    "            \"role\": \"user\",\n",
    "            \"content\": [\n",
    "                {\"type\": \"text\", \"text\": \"Which desease this image shows?\"},\n",
    "                {\n",
    "                    \"type\": \"image_url\",\n",
    "                    \"image_url\": {\n",
    "                        \"url\": f\"data:image/jpeg;base64,{base64_image}\",\n",
    "                    },\n",
    "                },\n",
    "            ],\n",
    "        }\n",
    "    ],\n",
    "    model=\"meta-llama/llama-4-scout-17b-16e-instruct\",\n",
    ")\n",
    "\n",
    "print(chat_completion.choices[0].message.content)"
   ]
  },
  {
   "cell_type": "code",
   "execution_count": null,
   "id": "6d9c9daf",
   "metadata": {},
   "outputs": [
    {
     "name": "stderr",
     "output_type": "stream",
     "text": [
      "d:\\Data Science\\Projects\\Medical Super Bot\\myenv\\Lib\\site-packages\\tqdm\\auto.py:21: TqdmWarning: IProgress not found. Please update jupyter and ipywidgets. See https://ipywidgets.readthedocs.io/en/stable/user_install.html\n",
      "  from .autonotebook import tqdm as notebook_tqdm\n",
      "Fetching 4 files:   0%|          | 0/4 [00:00<?, ?it/s]d:\\Data Science\\Projects\\Medical Super Bot\\myenv\\Lib\\site-packages\\huggingface_hub\\file_download.py:799: UserWarning: Not enough free disk space to download the file. The expected file size is: 4915.92 MB. The target location C:\\Users\\sonal\\.cache\\huggingface\\hub\\models--meta-llama--Llama-3.1-8B-Instruct\\blobs only has 0.00 MB free disk space.\n",
      "  warnings.warn(\n",
      "d:\\Data Science\\Projects\\Medical Super Bot\\myenv\\Lib\\site-packages\\huggingface_hub\\file_download.py:799: UserWarning: Not enough free disk space to download the file. The expected file size is: 4976.70 MB. The target location C:\\Users\\sonal\\.cache\\huggingface\\hub\\models--meta-llama--Llama-3.1-8B-Instruct\\blobs only has 0.00 MB free disk space.\n",
      "  warnings.warn(\n",
      "d:\\Data Science\\Projects\\Medical Super Bot\\myenv\\Lib\\site-packages\\huggingface_hub\\file_download.py:799: UserWarning: Not enough free disk space to download the file. The expected file size is: 4999.80 MB. The target location C:\\Users\\sonal\\.cache\\huggingface\\hub\\models--meta-llama--Llama-3.1-8B-Instruct\\blobs only has 0.00 MB free disk space.\n",
      "  warnings.warn(\n",
      "d:\\Data Science\\Projects\\Medical Super Bot\\myenv\\Lib\\site-packages\\huggingface_hub\\file_download.py:799: UserWarning: Not enough free disk space to download the file. The expected file size is: 1168.14 MB. The target location C:\\Users\\sonal\\.cache\\huggingface\\hub\\models--meta-llama--Llama-3.1-8B-Instruct\\blobs only has 0.00 MB free disk space.\n",
      "  warnings.warn(\n",
      "Fetching 4 files:   0%|          | 0/4 [02:53<?, ?it/s]\n"
     ]
    }
   ],
   "source": [
    "from langchain_huggingface import ChatHuggingFace, HuggingFacePipeline\n",
    "from langchain.chains import LLMChain\n",
    "from langchain_core.prompts import PromptTemplate\n",
    "\n",
    "llm = HuggingFacePipeline.from_model_id(\n",
    "    model_id=\"meta-llama/Llama-3.1-8B-Instruct\",\n",
    "    task=\"text-generation\",\n",
    "    pipeline_kwargs=dict(\n",
    "        max_new_tokens=512,\n",
    "        do_sample=False,\n",
    "        repetition_penalty=1.03,\n",
    "    ),\n",
    ")\n",
    "\n",
    "chat_model = ChatHuggingFace(llm=llm)"
   ]
  },
  {
   "cell_type": "code",
   "execution_count": null,
   "id": "8cdf507d",
   "metadata": {},
   "outputs": [],
   "source": [
    "from langchain_core.messages import (\n",
    "    HumanMessage,\n",
    "    SystemMessage,\n",
    ")\n",
    "\n",
    "messages = [\n",
    "    SystemMessage(content=\"You're a helpful assistant\"),\n",
    "    HumanMessage(\n",
    "        content=\"What happens when an unstoppable force meets an immovable object?\"\n",
    "    ),\n",
    "]\n",
    "\n",
    "ai_msg = chat_model.invoke(messages)"
   ]
  },
  {
   "cell_type": "code",
   "execution_count": null,
   "id": "ec9b55d8",
   "metadata": {},
   "outputs": [],
   "source": []
  }
 ],
 "metadata": {
  "kernelspec": {
   "display_name": "myenv",
   "language": "python",
   "name": "python3"
  },
  "language_info": {
   "codemirror_mode": {
    "name": "ipython",
    "version": 3
   },
   "file_extension": ".py",
   "mimetype": "text/x-python",
   "name": "python",
   "nbconvert_exporter": "python",
   "pygments_lexer": "ipython3",
   "version": "3.13.5"
  }
 },
 "nbformat": 4,
 "nbformat_minor": 5
}
